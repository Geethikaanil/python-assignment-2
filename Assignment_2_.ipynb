{
  "nbformat": 4,
  "nbformat_minor": 0,
  "metadata": {
    "colab": {
      "name": "Assignment 2.",
      "provenance": [],
      "collapsed_sections": [],
      "authorship_tag": "ABX9TyMoc43p4pibrGvVv3pLacEM",
      "include_colab_link": true
    },
    "kernelspec": {
      "name": "python3",
      "display_name": "Python 3"
    }
  },
  "cells": [
    {
      "cell_type": "markdown",
      "metadata": {
        "id": "view-in-github",
        "colab_type": "text"
      },
      "source": [
        "<a href=\"https://colab.research.google.com/github/Geethikaanil/python-assignment-1/blob/main/Assignment_2_.ipynb\" target=\"_parent\"><img src=\"https://colab.research.google.com/assets/colab-badge.svg\" alt=\"Open In Colab\"/></a>"
      ]
    },
    {
      "cell_type": "code",
      "metadata": {
        "colab": {
          "base_uri": "https://localhost:8080/"
        },
        "id": "FxDEv9wZj4Zq",
        "outputId": "5144a728-04e5-4699-c2a5-98fc67c43c13"
      },
      "source": [
        "x=int(input(\"enter your score\"))\n",
        "if x>=90:\n",
        "  print (\"A+\")\n",
        "elif x>=80:\n",
        "  print (\"A\")\n",
        "elif x>=70:\n",
        "  print(\"B+\")\n",
        "elif x>=60:\n",
        "  print(\"B\")\n",
        "elif x>=50:\n",
        "  print(\"C+\")\n",
        "elif x>=40:\n",
        "  print(\"C\")\n",
        "else:\n",
        "  print(\"Failed\")"
      ],
      "execution_count": 7,
      "outputs": [
        {
          "output_type": "stream",
          "text": [
            "enter your score85\n",
            "A\n"
          ],
          "name": "stdout"
        }
      ]
    }
  ]
}